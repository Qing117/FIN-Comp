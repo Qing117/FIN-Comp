{
 "cells": [
  {
   "cell_type": "markdown",
   "id": "01a5aa37",
   "metadata": {},
   "source": [
    "# Functions to search IRRs for cash flows"
   ]
  },
  {
   "cell_type": "code",
   "execution_count": 2,
   "id": "278f9200",
   "metadata": {},
   "outputs": [],
   "source": [
    "import numpy as np\n",
    "import pandas as pd\n",
    "import csv\n",
    "import warnings"
   ]
  },
  {
   "cell_type": "code",
   "execution_count": 4,
   "id": "f8ff779a",
   "metadata": {},
   "outputs": [],
   "source": [
    "def irr_search_single(cash_flows, initial_guess, max_iterations=1000, tolerance=1e-6):\n",
    "\n",
    "    iteration = 0\n",
    "    rate = initial_guess\n",
    "\n",
    "    while iteration < max_iterations:\n",
    "        iteration += 1\n",
    "        f_value = sum(cf / (1 + rate)**i for i, cf in enumerate(cash_flows))\n",
    "        f_derivative = sum(-i * cf / (1 + rate)**(i + 1) for i, cf in enumerate(cash_flows))\n",
    "        \n",
    "        if f_derivative == 0:\n",
    "            return None\n",
    "        \n",
    "        rate_new = rate - f_value / f_derivative\n",
    "        \n",
    "        if abs(rate_new - rate) < tolerance:\n",
    "            return rate_new\n",
    "\n",
    "        rate = rate_new\n",
    "\n",
    "    return None\n",
    "\n",
    "\n",
    "def irr_search(cash_flows, guess_range, step=0.05):\n",
    "\n",
    "    irrs = set()\n",
    "    for guess in np.arange(guess_range[0], guess_range[1], step):\n",
    "        irr_result = irr_search_single(cash_flows, guess)\n",
    "        if irr_result is not None:\n",
    "            irrs.add(round(irr_result, 6))  # Rounding to avoid minor variations\n",
    "        else:\n",
    "            irrs.add(-99999999) # Default value when IRR is not found\n",
    "\n",
    "    return irrs"
   ]
  },
  {
   "cell_type": "code",
   "execution_count": null,
   "id": "04b620f0",
   "metadata": {},
   "outputs": [],
   "source": []
  }
 ],
 "metadata": {
  "kernelspec": {
   "display_name": "Python 3 (ipykernel)",
   "language": "python",
   "name": "python3"
  },
  "language_info": {
   "codemirror_mode": {
    "name": "ipython",
    "version": 3
   },
   "file_extension": ".py",
   "mimetype": "text/x-python",
   "name": "python",
   "nbconvert_exporter": "python",
   "pygments_lexer": "ipython3",
   "version": "3.9.13"
  }
 },
 "nbformat": 4,
 "nbformat_minor": 5
}
