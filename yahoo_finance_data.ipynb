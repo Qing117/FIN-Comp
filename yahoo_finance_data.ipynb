{
 "cells": [
  {
   "cell_type": "code",
   "execution_count": 1,
   "id": "4d09d71c",
   "metadata": {},
   "outputs": [],
   "source": [
    "# pip install yfinance"
   ]
  },
  {
   "cell_type": "code",
   "execution_count": 2,
   "id": "09c18576",
   "metadata": {},
   "outputs": [],
   "source": [
    "import pandas as pd\n",
    "import yfinance as yf"
   ]
  },
  {
   "cell_type": "code",
   "execution_count": 3,
   "id": "dab8244f",
   "metadata": {},
   "outputs": [],
   "source": [
    "# Define the time period.\n",
    "start_date = '1927-12-30'\n",
    "end_date = '2024-09-01'"
   ]
  },
  {
   "cell_type": "code",
   "execution_count": 4,
   "id": "19e342fa",
   "metadata": {},
   "outputs": [],
   "source": [
    "ticker = \"^GSPC\""
   ]
  },
  {
   "cell_type": "code",
   "execution_count": 5,
   "id": "869f81ad",
   "metadata": {},
   "outputs": [
    {
     "name": "stdout",
     "output_type": "stream",
     "text": [
      "[*********************100%%**********************]  1 of 1 completed\n"
     ]
    }
   ],
   "source": [
    "price = yf.download(ticker,start_date,end_date,interval= \"1d\")['Adj Close'] #Daily: 1d"
   ]
  },
  {
   "cell_type": "code",
   "execution_count": 6,
   "id": "b9959f7b",
   "metadata": {},
   "outputs": [
    {
     "data": {
      "text/plain": [
       "Date\n",
       "1927-12-30      17.660000\n",
       "1928-01-03      17.760000\n",
       "1928-01-04      17.719999\n",
       "1928-01-05      17.549999\n",
       "1928-01-06      17.660000\n",
       "                 ...     \n",
       "2024-07-29    5463.540039\n",
       "2024-07-30    5436.439941\n",
       "2024-07-31    5522.299805\n",
       "2024-08-01    5446.680176\n",
       "2024-08-02    5346.560059\n",
       "Name: Adj Close, Length: 24263, dtype: float64"
      ]
     },
     "execution_count": 6,
     "metadata": {},
     "output_type": "execute_result"
    }
   ],
   "source": [
    "price"
   ]
  },
  {
   "cell_type": "code",
   "execution_count": 7,
   "id": "f196421b",
   "metadata": {},
   "outputs": [],
   "source": [
    "price.to_excel(\"sp500_level.xlsx\")"
   ]
  },
  {
   "cell_type": "code",
   "execution_count": 8,
   "id": "8271f439",
   "metadata": {},
   "outputs": [],
   "source": [
    "# for a list of tickers\n",
    "tickers = [\"^GSPC\",\"^RUT\"]"
   ]
  },
  {
   "cell_type": "code",
   "execution_count": null,
   "id": "58c2f09d",
   "metadata": {},
   "outputs": [],
   "source": []
  }
 ],
 "metadata": {
  "kernelspec": {
   "display_name": "Python 3 (ipykernel)",
   "language": "python",
   "name": "python3"
  },
  "language_info": {
   "codemirror_mode": {
    "name": "ipython",
    "version": 3
   },
   "file_extension": ".py",
   "mimetype": "text/x-python",
   "name": "python",
   "nbconvert_exporter": "python",
   "pygments_lexer": "ipython3",
   "version": "3.9.13"
  }
 },
 "nbformat": 4,
 "nbformat_minor": 5
}
